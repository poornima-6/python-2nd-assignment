{
 "cells": [
  {
   "cell_type": "raw",
   "metadata": {},
   "source": [
    "Exercise 1: Mailing Address Create a program that displays\n",
    "your name and complete mailing address formatted in the manner \n",
    "that you would usually see it on the outside of an envelope.\n",
    "Your program does not need to read any input from the user."
   ]
  },
  {
   "cell_type": "code",
   "execution_count": 4,
   "metadata": {},
   "outputs": [
    {
     "name": "stdout",
     "output_type": "stream",
     "text": [
      "Mailing Address for poornima krishnan\n",
      "Name : poornima krishnan\n",
      "Address Malad, Mumbai\n",
      "pin Code : 400095\n"
     ]
    }
   ],
   "source": [
    "Name  = \"poornima krishnan\"\n",
    "Address = \"Malad, Mumbai\"\n",
    "pincode = \"400095\"\n",
    "print(\"Mailing Address for {0}\". format(Name))\n",
    "print (\"Name : {0}\\nAddress {1}\\npin Code : {2}\".format(Name,Address,pincode))"
   ]
  },
  {
   "cell_type": "raw",
   "metadata": {},
   "source": [
    "Exercise 2: Hello Write a program that asks the user to enter his or her name. \n",
    "The program should respond with a message that says hello to the user,\n",
    "using his or her name."
   ]
  },
  {
   "cell_type": "code",
   "execution_count": 5,
   "metadata": {},
   "outputs": [
    {
     "name": "stdout",
     "output_type": "stream",
     "text": [
      "Enter Your Name : poornima krishnan\n",
      "Hello poornima krishnan\n"
     ]
    }
   ],
   "source": [
    "Name  = input(\"Enter Your Name : \")\n",
    "print (\"Hello\", format(Name))\n"
   ]
  },
  {
   "cell_type": "raw",
   "metadata": {},
   "source": [
    "Exercise 3: Area of a Room Write a program that asks the user to enter\n",
    "The width and length of a room. Once the values have been read, \n",
    "your program should compute and display the area of the room. \n",
    "The length and the width will be entered as floating-point numbers. \n",
    "Include units in your prompt and output message; either feet or meters,\n",
    "depending on which unit you are more comfortable working with."
   ]
  },
  {
   "cell_type": "code",
   "execution_count": 9,
   "metadata": {},
   "outputs": [
    {
     "name": "stdout",
     "output_type": "stream",
     "text": [
      "Enter the Length of the Room in Meters :12\n",
      "Enter the Width of the Room in Meters :25\n",
      "The Area of the Room is:  300.0 \n",
      "Area of the Room is Calculated in Meters  using the formula Length*width\n"
     ]
    }
   ],
   "source": [
    "Length = float(input(\"Enter the Length of the Room in Meters :\"))\n",
    "Width = float(input(\"Enter the Width of the Room in Meters :\"))\n",
    "Area  = Length*Width\n",
    "print(\"The Area of the Room is: \",Area, \"\\nArea of the Room is Calculated in Meters \",\n",
    "     \"using the formula Length*width\")"
   ]
  },
  {
   "cell_type": "raw",
   "metadata": {},
   "source": [
    "Exercise 4: Area of a Field Create a program that reads the length and width of a farmer’s field\n",
    "from the user in feet. Display the area of the field in acres.\n",
    "Hint: There are 43,560 square feet in an acre."
   ]
  },
  {
   "cell_type": "code",
   "execution_count": 7,
   "metadata": {},
   "outputs": [
    {
     "name": "stdout",
     "output_type": "stream",
     "text": [
      "Enter the Length of the Field in Feet :249\n",
      "Enter the Width of the Field in Feet:320\n",
      "AREA OF THE FIELD IS CALCULATED IN  ACRES: 1.83 \n",
      "Area of the Field is calculated\n",
      "using the formula: (length*width)/43560\n"
     ]
    }
   ],
   "source": [
    "Length = float(input(\"Enter the Length of the Field in Feet :\"))\n",
    "Width = float(input(\"Enter the Width of the Field in Feet:\"))\n",
    "Area_in_Acre = round((Length*Width)/43560,2)\n",
    "print (\"AREA OF THE FIELD IS CALCULATED IN  ACRES:\", Area_in_Acre,\"\\nArea of the Field is calculated\"\n",
    "       \"\\nusing the formula: (length*width)/43560\")"
   ]
  },
  {
   "cell_type": "raw",
   "metadata": {},
   "source": [
    "Exercise 5: Bottle Deposits In many jurisdictions a small deposit is added to drink containers\n",
    "to encourage people to recycle them. In one particular jurisdiction, drink containers holding\n",
    "one litre or less have a $0.10 deposit, and drink containers holding more than one litre have\n",
    "$0.25deposit. Write a program that reads the number of containers of each size from the user.\n",
    "Your program should continue by computing and displaying the refund that will be received for \n",
    "returning those containers.Format the output so that it includes a dollar sign and always\n",
    "displays exactly two decimal places."
   ]
  },
  {
   "cell_type": "code",
   "execution_count": 8,
   "metadata": {},
   "outputs": [
    {
     "name": "stdout",
     "output_type": "stream",
     "text": [
      "ENTER THE QUANTITY OF BOTTELS FOR ONE OR LESS THAN 1 LITER'S: 230\n",
      "ENTER THE QUANTITY OF BOTTELS FOR MORE THAN 1 LITER'S: 210\n",
      "YOUR PROCESSED REFUND IS: $ 75.5\n"
     ]
    }
   ],
   "source": [
    "one_or_less_than_1 = float(input(\"ENTER THE QUANTITY OF BOTTELS FOR ONE OR LESS THAN 1 LITER'S: \"))\n",
    "more_than_1_liter = float(input(\"ENTER THE QUANTITY OF BOTTELS FOR MORE THAN 1 LITER'S: \"))\n",
    "Refund = (one_or_less_than_1 * 0.10) + (more_than_1_liter * 0.25) \n",
    "print (\"YOUR PROCESSED REFUND IS: $ {}\".format(round(Refund,2)))"
   ]
  },
  {
   "cell_type": "raw",
   "metadata": {},
   "source": [
    "Exercise 6: Tax and Tip. The program that you create for this exercise will begin by reading the cost of a meal ordered at a restaurant from the user. Then your program will compute the tax and tip for the meal. Use your local tax rate when computing the amount of tax owing. Compute the tip as 18 percent of the meal amount (without the tax). The output from your program should include the tax amount, the tip amount, and the grand total for the meal including both the tax and the tip. Format the output so that all the values are displayed using two decimal places."
   ]
  },
  {
   "cell_type": "code",
   "execution_count": 10,
   "metadata": {},
   "outputs": [
    {
     "name": "stdout",
     "output_type": "stream",
     "text": [
      "ENTER THE COST OF THE MEAl: 980\n",
      "MEAL : 980.0\n",
      "GST : 147.0\n",
      "TIP : 176.4\n",
      "____________________\n",
      "TOTAL : 1303.4\n"
     ]
    }
   ],
   "source": [
    "cost_of_meal = (float(input(\"ENTER THE COST OF THE MEAl: \")))\n",
    "GST_rate = 15\n",
    "Tip_rate = 18\n",
    "GST = round((cost_of_meal*(15/100)),2)\n",
    "Tip = round((cost_of_meal*(18/100)),2)\n",
    "TOTAL = cost_of_meal+GST+Tip\n",
    "print(\"MEAL : {0}\\nGST : {1}\\nTIP : {2}\\n{3}\\nTOTAL : {4}\".format(cost_of_meal,GST,Tip,20*'_',TOTAL))\n"
   ]
  },
  {
   "cell_type": "raw",
   "metadata": {},
   "source": [
    "Exercise 7: Sum of the First n Positive Integers Write a program that reads a positive integer, n, from the user and then displays the sum of all the integers from 1 to n. The sum of the first n positive integers can be computed using the formula: sum = (n)(n + 1)/2\n"
   ]
  },
  {
   "cell_type": "code",
   "execution_count": 12,
   "metadata": {},
   "outputs": [
    {
     "name": "stdout",
     "output_type": "stream",
     "text": [
      "ENTER A POSITIVE INTEGER: 24\n",
      "SUM OF THE FIRST POSITIVE INTEGER 24 POSITIVE IS : 300\n"
     ]
    }
   ],
   "source": [
    "n = int(input(\"ENTER A POSITIVE INTEGER: \"))\n",
    "sum = round((n)*(n+1)/2)\n",
    "print (\"SUM OF THE FIRST POSITIVE INTEGER {0} POSITIVE IS : {1}\".format(n,sum))"
   ]
  },
  {
   "cell_type": "raw",
   "metadata": {},
   "source": [
    "Exercise 8: Widgets and Gizmos An online retailer sells two products: widgets and gizmos. Each widget weighs 75 grams. Each gizmo weighs 112 grams. Write a program that reads the number of widgets and the number of gizmos in an order from the user. Then your program should compute and display the total weight of the order"
   ]
  },
  {
   "cell_type": "code",
   "execution_count": 13,
   "metadata": {},
   "outputs": [
    {
     "name": "stdout",
     "output_type": "stream",
     "text": [
      "NUMBER OF WIDGETS: 24\n",
      "NUMBER OF GIZMOS: 35\n",
      "TOTAL WEIGHT OF THE WIDGET :1800\n",
      "TOTAL WEIGHT OF THE GIZMOS: 3920\n",
      "________________________________________\n",
      "TOTAL WEIGHT OF THE ORDER:  5720 grms\n"
     ]
    }
   ],
   "source": [
    "num_widgets = int(input(\"NUMBER OF WIDGETS: \"))\n",
    "num_gizmos = int(input(\"NUMBER OF GIZMOS: \"))\n",
    "weight_widgets = 75\n",
    "weight_gizmos = 112\n",
    "total_num_widgets = num_widgets * weight_widgets\n",
    "total_num_gizmos = num_gizmos * weight_gizmos\n",
    "total_order_weight = total_num_widgets + total_num_gizmos\n",
    "print (\"TOTAL WEIGHT OF THE WIDGET :{0}\\nTOTAL WEIGHT OF THE GIZMOS: {1}\"\n",
    "       \"\\n{2}\\nTOTAL WEIGHT OF THE ORDER:  {3} grms\".format(total_num_widgets,total_num_gizmos,40*'_',total_order_weight))"
   ]
  },
  {
   "cell_type": "raw",
   "metadata": {},
   "source": [
    "Exercise 9: Compound Interest Pretend that you have just opened a new savings account that earns 4 percent interest per year. The interest that you earn is paid at the end of the year and is added to the balance of the savings account. Write a program that begins by reading the amount of money deposited into the account from the user. Then your program should compute and display the amount in the savings account after 1, 2, and 3 years. Display each amount so that it is rounded to 2 decimal places."
   ]
  },
  {
   "cell_type": "code",
   "execution_count": 15,
   "metadata": {},
   "outputs": [
    {
     "name": "stdout",
     "output_type": "stream",
     "text": [
      "ENTER YOUR DEPOSIT AMOUNT: 100000\n",
      "THE AMOUNT AT THE END OF 1ST YEAR: 104000.0 \n",
      "THE AMOUNT AT THE END OF 2ND YEAR: 108160.0 \n",
      "THE AMOUNT AT THE END OF 3RD YEAR: 121665.29\n"
     ]
    }
   ],
   "source": [
    "deposit = float(input(\"ENTER YOUR DEPOSIT AMOUNT: \"))\n",
    "interest_rate = 4/100\n",
    "savings_1year = round(( deposit + (deposit  * interest_rate)),2)\n",
    "savings_2year = round((savings_1year + (savings_1year * interest_rate)),2)\n",
    "savings_3year = round((savings_3year + (savings_3year * interest_rate)),2)\n",
    "print(\"THE AMOUNT AT THE END OF 1ST YEAR: {} \"\n",
    "      \"\\nTHE AMOUNT AT THE END OF 2ND YEAR: {} \"\n",
    "      \"\\nTHE AMOUNT AT THE END OF 3RD YEAR: {}\".format(savings_1year,savings_2year,savings_3year))"
   ]
  },
  {
   "cell_type": "raw",
   "metadata": {},
   "source": [
    "Exercise 10: Arithmetic Create a program that reads two integers, a and b, from the user. Your program should compute and display: • The sum of a and b • The difference when b is subtracted from a • The product of a and b 6 1 Introduction to Programming Exercises • The quotient when a is divided by b • The remainder when a is divided by b • The result of log10 a • The result of ab\n",
    "\n",
    "Hint: You will probably find the log10 function in the math module helpful for computing the second last item in the list.\n"
   ]
  },
  {
   "cell_type": "code",
   "execution_count": 22,
   "metadata": {},
   "outputs": [
    {
     "name": "stdout",
     "output_type": "stream",
     "text": [
      "ENTER THE VALUE OF a: 64\n",
      "ENTER THE VALUE OF b: 12\n",
      "SUM OF a AND b IS: 76\n",
      "SUBTRACTION OF a-b:  52\n",
      "MULTIPLYING a and b IS:  768\n",
      "DIVIDING a AND b IS:  5.333333333333333\n",
      "a/b AND ITS REMAINDER IS:  5\n",
      "LOG OF 10a IS:  1.806179973983887\n"
     ]
    }
   ],
   "source": [
    "import math\n",
    "a = int(input(\"ENTER THE VALUE OF a: \"))\n",
    "b = int(input(\"ENTER THE VALUE OF b: \"))\n",
    "print(\"SUM OF a AND b IS:\", a + b)\n",
    "print(\"SUBTRACTION OF a-b: \", a - b)\n",
    "print(\"MULTIPLYING a and b IS: \", a * b)\n",
    "print(\"DIVIDING a AND b IS: \", a / b,)\n",
    "print(\"a/b AND ITS REMAINDER IS: \", a//b)\n",
    "print(\"LOG OF 10a IS: \", math.log10(a))"
   ]
  },
  {
   "cell_type": "code",
   "execution_count": null,
   "metadata": {},
   "outputs": [],
   "source": []
  },
  {
   "cell_type": "code",
   "execution_count": null,
   "metadata": {},
   "outputs": [],
   "source": []
  }
 ],
 "metadata": {
  "kernelspec": {
   "display_name": "Python 3",
   "language": "python",
   "name": "python3"
  },
  "language_info": {
   "codemirror_mode": {
    "name": "ipython",
    "version": 3
   },
   "file_extension": ".py",
   "mimetype": "text/x-python",
   "name": "python",
   "nbconvert_exporter": "python",
   "pygments_lexer": "ipython3",
   "version": "3.7.6"
  }
 },
 "nbformat": 4,
 "nbformat_minor": 4
}
